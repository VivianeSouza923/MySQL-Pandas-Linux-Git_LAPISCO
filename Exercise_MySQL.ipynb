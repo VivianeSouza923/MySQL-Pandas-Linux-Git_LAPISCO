{
 "cells": [
  {
   "cell_type": "markdown",
   "id": "affecting-currency",
   "metadata": {},
   "source": [
    "# Atividade 1 - Manipulação de Dados - MySQL."
   ]
  },
  {
   "cell_type": "markdown",
   "id": "controlling-payroll",
   "metadata": {},
   "source": [
    "## Lapisco Trainee - Viviane Pinto de Souza.\n"
   ]
  },
  {
   "cell_type": "markdown",
   "id": "fewer-entrepreneur",
   "metadata": {},
   "source": [
    "### Para resolver os exercícios, utilize a descrição do modelo relacional abaixo e os comandos SQL aprendidos. Se houver a necessidade de utilizar mais de uma tabela em uma consulta, utilize o INNER JOIN, em vez do produto cartesiano."
   ]
  },
  {
   "cell_type": "markdown",
   "id": "trained-coalition",
   "metadata": {},
   "source": [
    "1) Insira 3 registros para cada tabela criada."
   ]
  },
  {
   "cell_type": "code",
   "execution_count": 1,
   "id": "general-receiver",
   "metadata": {},
   "outputs": [
    {
     "name": "stdout",
     "output_type": "stream",
     "text": [
      "/home/vivi/Documents/ESTUDOS/LAPISCO_GERAL/Revision MySQL-Pandas/pandas-mysql-practices/mysql-connector-python/lib\n"
     ]
    }
   ],
   "source": [
    "cd mysql-connector-python/lib"
   ]
  },
  {
   "cell_type": "code",
   "execution_count": 3,
   "id": "polar-allowance",
   "metadata": {},
   "outputs": [],
   "source": [
    "import mysql.connector\n",
    "from datetime import date\n",
    "import asyncio\n",
    "import random\n",
    "from time import sleep\n"
   ]
  },
  {
   "cell_type": "code",
   "execution_count": 6,
   "id": "digital-mortality",
   "metadata": {},
   "outputs": [],
   "source": [
    "# INSERT\n",
    "\n",
    "con = mysql.connector.connect(\n",
    "    user='root',\n",
    "    password='password',\n",
    "    host='localhost',\n",
    "    database='novela'\n",
    ")\n",
    "\n"
   ]
  },
  {
   "cell_type": "code",
   "execution_count": null,
   "id": "classical-juvenile",
   "metadata": {},
   "outputs": [],
   "source": []
  }
 ],
 "metadata": {
  "kernelspec": {
   "display_name": "Python machine learning",
   "language": "python",
   "name": "python-machine-learning"
  },
  "language_info": {
   "codemirror_mode": {
    "name": "ipython",
    "version": 3
   },
   "file_extension": ".py",
   "mimetype": "text/x-python",
   "name": "python",
   "nbconvert_exporter": "python",
   "pygments_lexer": "ipython3",
   "version": "3.6.14"
  }
 },
 "nbformat": 4,
 "nbformat_minor": 5
}
